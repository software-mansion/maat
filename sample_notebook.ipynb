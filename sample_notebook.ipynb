{
 "cells": [
  {
   "metadata": {
    "ExecuteTime": {
     "end_time": "2025-04-07T13:11:11.284656Z",
     "start_time": "2025-04-07T13:11:11.282386Z"
    }
   },
   "cell_type": "code",
   "source": "from maat import repl",
   "id": "9b6a9cd9b1809b72",
   "outputs": [],
   "execution_count": 3
  },
  {
   "metadata": {
    "ExecuteTime": {
     "end_time": "2025-04-07T13:11:11.324611Z",
     "start_time": "2025-04-07T13:11:11.295811Z"
    }
   },
   "cell_type": "code",
   "source": [
    "r = repl.open_report(\"reports/release-2.11.2-0.39.0.json\")\n",
    "\n",
    "repl.list_test_names_containing_pattern_in_log(r, \"Unsupported attribute\")"
   ],
   "id": "4b9a9a838664da78",
   "outputs": [
    {
     "data": {
      "text/plain": [
       "['EkuboProtocol/revenue-buybacks',\n",
       " 'access_control',\n",
       " 'alexandria_ascii',\n",
       " 'alexandria_bytes',\n",
       " 'alexandria_data_structures',\n",
       " 'alexandria_encoding',\n",
       " 'alexandria_linalg',\n",
       " 'alexandria_math',\n",
       " 'alexandria_merkle_tree',\n",
       " 'alexandria_numeric',\n",
       " 'alexandria_searching',\n",
       " 'alexandria_sorting',\n",
       " 'alexandria_storage',\n",
       " 'carbon_v3',\n",
       " 'chrono',\n",
       " 'cubit',\n",
       " 'dl_alexandria_storage',\n",
       " 'erc4906',\n",
       " 'fp',\n",
       " 'openzeppelin_access',\n",
       " 'openzeppelin_account',\n",
       " 'openzeppelin_finance',\n",
       " 'openzeppelin_introspection',\n",
       " 'openzeppelin_merkle_tree',\n",
       " 'openzeppelin_presets',\n",
       " 'openzeppelin_security',\n",
       " 'openzeppelin_token',\n",
       " 'openzeppelin_upgrades',\n",
       " 'openzeppelin_utils',\n",
       " 'starkware_utils',\n",
       " 'string_utility',\n",
       " 'wadray',\n",
       " 'xoroshiro']"
      ]
     },
     "execution_count": 4,
     "metadata": {},
     "output_type": "execute_result"
    }
   ],
   "execution_count": 4
  }
 ],
 "metadata": {
  "kernelspec": {
   "name": "python3",
   "language": "python",
   "display_name": "Python 3 (ipykernel)"
  }
 },
 "nbformat": 4,
 "nbformat_minor": 5
}
